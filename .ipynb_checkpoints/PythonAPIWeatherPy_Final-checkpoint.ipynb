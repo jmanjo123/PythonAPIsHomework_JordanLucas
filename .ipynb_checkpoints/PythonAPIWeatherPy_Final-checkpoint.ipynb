{
 "cells": [
  {
   "cell_type": "markdown",
   "metadata": {},
   "source": [
    "# WeatherPy\n",
    "----\n",
    "\n",
    "#### Note\n",
    "* Instructions have been included for each segment. You do not have to follow them exactly, but they are included to help you think through the steps."
   ]
  },
  {
   "cell_type": "code",
   "execution_count": 1,
   "metadata": {
    "scrolled": true
   },
   "outputs": [],
   "source": [
    "# Dependencies and Setup\n",
    "import matplotlib.pyplot as plt\n",
    "import pandas as pd\n",
    "import numpy as np\n",
    "import requests\n",
    "import time\n",
    "from scipy.stats import linregress\n",
    "\n",
    "# Import API key\n",
    "from api_keys import weather_api_key\n",
    "\n",
    "# Incorporated citipy to determine city based on latitude and longitude\n",
    "from citipy import citipy\n",
    "#import openweathermapy"
   ]
  },
  {
   "cell_type": "code",
   "execution_count": 2,
   "metadata": {},
   "outputs": [],
   "source": [
    "# Output File (CSV)\n",
    "output_data_file = \"C:/Users/jmanj/OneDrive/Desktop/Resources/cities.csv\"\n",
    "\n",
    "# Range of latitudes and longitudes\n",
    "lat_range = (-90, 90)\n",
    "lng_range = (-180, 180)"
   ]
  },
  {
   "cell_type": "markdown",
   "metadata": {},
   "source": [
    "## Generate Cities List"
   ]
  },
  {
   "cell_type": "code",
   "execution_count": 3,
   "metadata": {},
   "outputs": [
    {
     "name": "stdout",
     "output_type": "stream",
     "text": [
      "There are 631 cities found from random geo-coordinates.\n"
     ]
    }
   ],
   "source": [
    "lat_lngs = []\n",
    "cities = []\n",
    "\n",
    "# Create a set of random lat and lng combinations\n",
    "lats = np.random.uniform(low=lat_range[0], high=lat_range[1], size=1500)\n",
    "lngs = np.random.uniform(low=lng_range[0], high=lng_range[1], size=1500)\n",
    "lat_lngs = zip(lats, lngs)\n",
    "\n",
    "# Identify nearest city by passing lat and lng combination\n",
    "for lat_lng in lat_lngs:\n",
    "    city = citipy.nearest_city(lat_lng[0], lat_lng[1]).city_name\n",
    "    \n",
    "    # append unique city to the list\n",
    "    if city not in cities:\n",
    "        cities.append(city)\n",
    "\n",
    "# Print the city count to confirm sufficient count\n",
    "print(\"There are {} cities found from random geo-coordinates.\".format(len(cities)))"
   ]
  },
  {
   "cell_type": "markdown",
   "metadata": {},
   "source": [
    "# Create a set of random lat and lng combinations"
   ]
  },
  {
   "cell_type": "code",
   "execution_count": 4,
   "metadata": {},
   "outputs": [
    {
     "data": {
      "text/plain": [
       "565"
      ]
     },
     "execution_count": 4,
     "metadata": {},
     "output_type": "execute_result"
    }
   ],
   "source": [
    "# List for holding lat_lngs and cities\n",
    "lat_lngs = []\n",
    "cities = []\n",
    "\n",
    "# Create a set of random lat and lng combinations\n",
    "lats = np.random.uniform(low=-90.000, high=90.000, size=1500)\n",
    "lngs = np.random.uniform(low=-180.000, high=180.000, size=1500)\n",
    "lat_lngs = zip(lats, lngs)\n",
    "# Identify nearest city for each lat, lng combination\n",
    "\n",
    "for lat_lng in lat_lngs:\n",
    "    city = citipy.nearest_city(lat_lng[0], lat_lng[1]).city_name\n",
    "    \n",
    "    # If the city is unique, then add it to a our cities list\n",
    "    if city not in cities:\n",
    "        cities.append(city)\n",
    "\n",
    "# Print the city count to confirm sufficient count\n",
    "len(cities)"
   ]
  },
  {
   "cell_type": "markdown",
   "metadata": {},
   "source": [
    "### Perform API Calls\n",
    "* Perform a weather check on each city using a series of successive API calls.\n",
    "* Include a print log of each city as it'sbeing processed (with the city number and city name).\n"
   ]
  },
  {
   "cell_type": "code",
   "execution_count": null,
   "metadata": {},
   "outputs": [
    {
     "name": "stdout",
     "output_type": "stream",
     "text": [
      "Beginning Data Retrieval\n",
      "-----------------------------------\n",
      "Processing Record   1 of set 565 | Rikitea \n",
      "Processing Record   2 of set 565 | Fort Nelson \n",
      "Processing Record   3 of set 565 | Jamestown \n",
      "Processing Record   4 of set 565 | Busselton \n",
      "Processing Record   5 of set 565 | Khatanga \n",
      "Processing Record   6 of set 565 | Albany \n",
      "Processing Record   7 of set 565 | Hobart \n",
      "Processing Record   8 of set 565 | Chokurdakh \n",
      "Processing Record   9 of set 565 | Mataura \n",
      "(Total 1 cities out of 565 not found...) \n",
      "(Total 2 cities out of 565 not found...) \n",
      "Processing Record  10 of set 565 | Punta Arenas \n",
      "Processing Record  11 of set 565 | Sabang \n",
      "Processing Record  12 of set 565 | Bambous Virieux \n",
      "Processing Record  13 of set 565 | Nokaneng \n",
      "Processing Record  14 of set 565 | Lorengau \n",
      "(Total 3 cities out of 565 not found...) \n",
      "Processing Record  15 of set 565 | Vaini \n",
      "Processing Record  16 of set 565 | Ambilobe \n",
      "(Total 4 cities out of 565 not found...) \n",
      "Processing Record  17 of set 565 | Biu \n",
      "Processing Record  18 of set 565 | Thompson \n",
      "(Total 5 cities out of 565 not found...) \n",
      "Processing Record  19 of set 565 | Qaanaaq \n",
      "Processing Record  20 of set 565 | Ribeira Grande \n",
      "Processing Record  21 of set 565 | Kiryat Gat \n",
      "Processing Record  22 of set 565 | Quzhou \n",
      "Processing Record  23 of set 565 | Makakilo City \n",
      "Processing Record  24 of set 565 | Kouango \n",
      "Processing Record  25 of set 565 | Bakchar \n",
      "Processing Record  26 of set 565 | Jambi City \n",
      "(Total 6 cities out of 565 not found...) \n",
      "Processing Record  27 of set 565 | Saint Paul Harbor \n",
      "Processing Record  28 of set 565 | Aitape \n",
      "Processing Record  29 of set 565 | Puerto Ayora \n",
      "Processing Record  30 of set 565 | Port Blair \n",
      "Processing Record  31 of set 565 | Upata \n",
      "Processing Record  32 of set 565 | Krasnyy Chikoy \n",
      "Processing Record  33 of set 565 | Norman Wells \n",
      "Processing Record  34 of set 565 | Ponta do Sol \n",
      "(Total 7 cities out of 565 not found...) \n",
      "Processing Record  35 of set 565 | Hilo \n",
      "Processing Record  36 of set 565 | Iqaluit \n",
      "Processing Record  37 of set 565 | Umm Kaddadah \n",
      "Processing Record  38 of set 565 | Upernavik \n",
      "Processing Record  39 of set 565 | Tura \n",
      "Processing Record  40 of set 565 | Kruisfontein \n",
      "(Total 8 cities out of 565 not found...) \n",
      "(Total 9 cities out of 565 not found...) \n",
      "Processing Record  41 of set 565 | Mountain Home \n",
      "Processing Record  42 of set 565 | Hermanus \n",
      "Processing Record  43 of set 565 | Avarua \n",
      "Processing Record  44 of set 565 | Castro \n",
      "Processing Record  45 of set 565 | Torbay \n",
      "Processing Record  46 of set 565 | Amapá \n",
      "Processing Record  47 of set 565 | Atuona \n",
      "Processing Record  48 of set 565 | New Norfolk \n",
      "Processing Record  49 of set 565 | Huanan \n",
      "Processing Record  50 of set 565 | Lata \n",
      "Processing Record  51 of set 565 | Paraty \n",
      "Processing Record  52 of set 565 | Dhidhdhoo \n",
      "Processing Record  53 of set 565 | Taltal \n",
      "Processing Record  54 of set 565 | Takoradze \n",
      "Processing Record  55 of set 565 | Cape Town \n",
      "Processing Record  56 of set 565 | Cēsis \n",
      "Processing Record  57 of set 565 | Shitanjing \n",
      "Processing Record  58 of set 565 | Narsaq \n",
      "Processing Record  59 of set 565 | Pontes e Lacerda \n",
      "Processing Record  60 of set 565 | Te Anau \n",
      "Processing Record  61 of set 565 | Ushuaia \n",
      "Processing Record  62 of set 565 | Yellowknife \n",
      "Processing Record  63 of set 565 | Barrow \n",
      "Processing Record  64 of set 565 | Dikson \n",
      "Processing Record  65 of set 565 | Saint-Philippe \n",
      "Processing Record  66 of set 565 | Bredasdorp \n",
      "Processing Record  67 of set 565 | Bluff \n",
      "Processing Record  68 of set 565 | Vao \n",
      "Processing Record  69 of set 565 | Geraldton \n",
      "(Total 10 cities out of 565 not found...) \n",
      "Processing Record  70 of set 565 | Olafsvik \n",
      "Processing Record  71 of set 565 | Kuna \n",
      "(Total 11 cities out of 565 not found...) \n",
      "Processing Record  72 of set 565 | Esperance \n",
      "Processing Record  73 of set 565 | Bethel \n",
      "Processing Record  74 of set 565 | Polyarny \n",
      "Processing Record  75 of set 565 | Nome \n",
      "Processing Record  76 of set 565 | Talcahuano \n",
      "Processing Record  77 of set 565 | Poum \n",
      "(Total 12 cities out of 565 not found...) \n",
      "Processing Record  78 of set 565 | Xapuri \n",
      "Processing Record  79 of set 565 | São Filipe \n",
      "Processing Record  80 of set 565 | Mil'kovo \n",
      "(Total 13 cities out of 565 not found...) \n",
      "Processing Record  81 of set 565 | Yārāda \n",
      "Processing Record  82 of set 565 | Prainha \n",
      "Processing Record  83 of set 565 | Dhangadhi \n",
      "Processing Record  84 of set 565 | Vestmannaeyjar \n",
      "Processing Record  85 of set 565 | Butaritari \n",
      "Processing Record  86 of set 565 | Alofi \n",
      "Processing Record  87 of set 565 | Hithadhoo \n",
      "Processing Record  88 of set 565 | Barcelos \n",
      "Processing Record  89 of set 565 | Neryungri \n",
      "Processing Record  90 of set 565 | Provideniya \n",
      "Processing Record  91 of set 565 | Buraidah \n",
      "Processing Record  92 of set 565 | Birjand \n",
      "Processing Record  93 of set 565 | Labuhan \n",
      "Processing Record  94 of set 565 | Tuktoyaktuk \n",
      "Processing Record  95 of set 565 | George Town \n",
      "Processing Record  96 of set 565 | Mitsamiouli \n",
      "Processing Record  97 of set 565 | Qasigiannguit \n",
      "Processing Record  98 of set 565 | Silver City \n",
      "Processing Record  99 of set 565 | Saint George \n",
      "Processing Record 100 of set 565 | Chillicothe \n",
      "Processing Record 101 of set 565 | Tiksi \n",
      "Processing Record 102 of set 565 | Tasiilaq \n",
      "Processing Record 103 of set 565 | Port Alfred \n",
      "Processing Record 104 of set 565 | Kyrksæterøra \n",
      "Processing Record 105 of set 565 | Lagoa \n",
      "Processing Record 106 of set 565 | Bandarbeyla \n",
      "(Total 14 cities out of 565 not found...) \n",
      "Processing Record 107 of set 565 | Kumul \n",
      "Processing Record 108 of set 565 | Arraial do Cabo \n",
      "Processing Record 109 of set 565 | Talara \n",
      "Processing Record 110 of set 565 | Faanui \n",
      "Processing Record 111 of set 565 | San Borja \n",
      "Processing Record 112 of set 565 | Jiangyou \n",
      "Processing Record 113 of set 565 | Mahébourg \n",
      "Processing Record 114 of set 565 | Nanortalik \n",
      "(Total 15 cities out of 565 not found...) \n",
      "Processing Record 115 of set 565 | Cidreira \n",
      "Processing Record 116 of set 565 | Mpika \n",
      "Processing Record 117 of set 565 | Meulaboh \n",
      "Processing Record 118 of set 565 | Arlit \n",
      "Processing Record 119 of set 565 | Umluj \n",
      "Processing Record 120 of set 565 | Mar del Plata \n",
      "Processing Record 121 of set 565 | Bubaque \n",
      "Processing Record 122 of set 565 | Saskylakh \n",
      "Processing Record 123 of set 565 | Tabuk \n",
      "Processing Record 124 of set 565 | Kapaa \n",
      "(Total 16 cities out of 565 not found...) \n",
      "Processing Record 125 of set 565 | Emba \n",
      "Processing Record 126 of set 565 | Lebu \n",
      "Processing Record 127 of set 565 | Colares \n",
      "Processing Record 128 of set 565 | Caravelas \n",
      "Processing Record 129 of set 565 | Båtsfjord \n",
      "Processing Record 130 of set 565 | Bowen \n",
      "Processing Record 131 of set 565 | Orlik \n",
      "Processing Record 132 of set 565 | Valença do Piauí \n",
      "Processing Record 133 of set 565 | Riyadh \n",
      "Processing Record 134 of set 565 | Port Elizabeth \n",
      "Processing Record 135 of set 565 | Mahon \n",
      "Processing Record 136 of set 565 | East London \n",
      "Processing Record 137 of set 565 | Isangel \n",
      "Processing Record 138 of set 565 | Seydi \n",
      "Processing Record 139 of set 565 | Souillac \n",
      "(Total 17 cities out of 565 not found...) \n",
      "Processing Record 140 of set 565 | Acapulco de Juárez \n",
      "Processing Record 141 of set 565 | Boyolangu \n",
      "Processing Record 142 of set 565 | Laguna \n",
      "Processing Record 143 of set 565 | Esim \n",
      "Processing Record 144 of set 565 | Guerrero Negro \n",
      "(Total 18 cities out of 565 not found...) \n",
      "Processing Record 145 of set 565 | Det Udom \n",
      "Processing Record 146 of set 565 | Āgaro \n",
      "Processing Record 147 of set 565 | Sabha \n",
      "Processing Record 148 of set 565 | Juntas \n",
      "Processing Record 149 of set 565 | Yulara \n",
      "Processing Record 150 of set 565 | Coyhaique \n",
      "Processing Record 151 of set 565 | Pangnirtung \n",
      "Processing Record 152 of set 565 | Cape Canaveral \n",
      "(Total 19 cities out of 565 not found...) \n",
      "Processing Record 153 of set 565 | Dunedin \n",
      "Processing Record 154 of set 565 | Palmer \n",
      "Processing Record 155 of set 565 | Nikolskoye \n",
      "Processing Record 156 of set 565 | Constitución \n",
      "Processing Record 157 of set 565 | Papar \n",
      "(Total 20 cities out of 565 not found...) \n",
      "Processing Record 158 of set 565 | Province of Mantua \n",
      "Processing Record 159 of set 565 | Gamba \n",
      "Processing Record 160 of set 565 | Airai \n",
      "(Total 21 cities out of 565 not found...) \n",
      "Processing Record 161 of set 565 | College \n",
      "Processing Record 162 of set 565 | Rock Sound \n"
     ]
    },
    {
     "name": "stdout",
     "output_type": "stream",
     "text": [
      "Processing Record 163 of set 565 | Kiunga \n",
      "Processing Record 164 of set 565 | Stantsionno-Oyashinskiy \n",
      "Processing Record 165 of set 565 | Pātūr \n",
      "Processing Record 166 of set 565 | Solnechnyy \n",
      "Processing Record 167 of set 565 | Chui \n",
      "Processing Record 168 of set 565 | Marzuq \n",
      "Processing Record 169 of set 565 | Turochak \n",
      "Processing Record 170 of set 565 | Flinders \n",
      "Processing Record 171 of set 565 | The Valley \n",
      "Processing Record 172 of set 565 | Hong Kong \n",
      "Processing Record 173 of set 565 | Broome \n",
      "Processing Record 174 of set 565 | Grindavik \n",
      "Processing Record 175 of set 565 | Alto Paraguai \n",
      "Processing Record 176 of set 565 | Longyearbyen \n",
      "Processing Record 177 of set 565 | Ocós \n",
      "Processing Record 178 of set 565 | Kampene \n",
      "Processing Record 179 of set 565 | Macas \n"
     ]
    }
   ],
   "source": [
    "unit = \"Imperial\"\n",
    "\n",
    "#api_key = \"enter api key to execute\"\n",
    "\n",
    "base_url = f\"http://api.openweathermap.org/data/2.5/weather?\"\n",
    "param = {\"appid\" : weather_api_key,\n",
    "         \"units\" : unit}\n",
    "\n",
    "# Create DataFrame with below parameters\n",
    "city_weather_df = pd.DataFrame(columns=[\"City\",\n",
    "                                        \"Cloudiness(%)\",\n",
    "                                        \"Country\",\n",
    "                                        \"Date\",\n",
    "                                        \"Humidity(%)\",\n",
    "                                        \"Lat\",\n",
    "                                        \"Lng\", \n",
    "                                        \"Max Temp(F)\",\n",
    "                                        \"Wind Speed(mph)\"])\n",
    "\n",
    "# get local current time\n",
    "def current_date():\n",
    "    localtime = time.asctime( time.localtime(time.time()) )\n",
    "    return localtime.split(' ')[1]+\"/\"+localtime.split(' ')[2]+\"/\"+localtime.split(' ')[4]\n",
    "\n",
    "\n",
    "print(\"Beginning Data Retrieval\")\n",
    "print(\"-----------------------------------\")\n",
    "\n",
    "\n",
    "# store each city weather information on DataFrame\n",
    "i = 0\n",
    "not_found = 0\n",
    "for city in cities:\n",
    "    param[\"q\"] = city\n",
    "    \n",
    "    # Perform a weather check on each of the cities using a series of successive API calls    \n",
    "    data = requests.get(base_url, params=param).json()\n",
    "    try:\n",
    "        city_weather_df.loc[i, \"City\"] = data[\"name\"]\n",
    "        city_weather_df.loc[i, \"Cloudiness(%)\"] = data[\"clouds\"][\"all\"]\n",
    "        city_weather_df.loc[i, \"Country\"] = data[\"sys\"][\"country\"]\n",
    "        city_weather_df.loc[i, \"Date\"] = current_date()\n",
    "        city_weather_df.loc[i, \"Humidity(%)\"] = data[\"main\"][\"humidity\"]\n",
    "        city_weather_df.loc[i, \"Lat\"] = data[\"coord\"][\"lat\"]\n",
    "        city_weather_df.loc[i, \"Lng\"] = data[\"coord\"][\"lon\"]\n",
    "        city_weather_df.loc[i, \"Max Temp(F)\"] = data[\"main\"][\"temp_max\"]\n",
    "        city_weather_df.loc[i, \"Wind Speed(mph)\"] = data[\"wind\"][\"speed\"]\n",
    "        \n",
    "        i += 1\n",
    "        # Include a print log of each city as it's being processed with the city number and city name.\n",
    "        print(\"Processing Record {:3d} of set {} | {} \".format(i, len(cities), data['name']))\n",
    "              \n",
    "    except KeyError:\n",
    "        print(\"(Total {} cities out of {} not found...) \".format(not_found + 1, len(cities)))\n",
    "        not_found += 1\n",
    "\n",
    "print(f\"\"\"\n",
    "-------------------------------------------\n",
    "Data Retrieval Completed\n",
    "-------------------------------------------\"\"\")"
   ]
  },
  {
   "cell_type": "markdown",
   "metadata": {},
   "source": [
    "### Convert Raw Data to DataFrame\n",
    "* Export the city data into a .csv.\n",
    "* Display the DataFrame"
   ]
  },
  {
   "cell_type": "markdown",
   "metadata": {},
   "source": [
    "# Save CSV of all data retrieved\n",
    "city_weather_df.to_csv(output_data_file)\n",
    "city_weather_df.count()"
   ]
  },
  {
   "cell_type": "code",
   "execution_count": null,
   "metadata": {},
   "outputs": [],
   "source": [
    "#Display dataframe\n",
    "city_weather_df.head()"
   ]
  },
  {
   "cell_type": "markdown",
   "metadata": {},
   "source": [
    "### Plotting the Data"
   ]
  },
  {
   "cell_type": "code",
   "execution_count": null,
   "metadata": {},
   "outputs": [],
   "source": [
    "font = 12\n",
    "lat = city_weather_df['Lat']\n",
    "max_temp = city_weather_df['Max Temp(F)']\n",
    "date = city_weather_df['Date'][0]\n",
    "\n",
    "# Print analysis\n",
    "print (\"Minimum Temprature is {:.2f}\" .format(max_temp.min()))\n",
    "print (\"Average Temprature is {:.2f}\" .format(max_temp.mean()))\n",
    "print (\"Maximun Temprature is {:.2f}\" .format (max_temp.max()))  \n",
    "print (\"Their are {} cities temprature are greater than 100 degree (F) \\n\" .format (city_weather_df[city_weather_df['Max Temp(F)']> 100].count()['City']))\n",
    " \n",
    "\n",
    "\n",
    "plt.grid(True)\n",
    "# create scatter plot for city latitude with max temprature\n",
    "plt.scatter(lat, max_temp, marker=\"o\", facecolors=\"lightblue\", edgecolors=\"black\")\n",
    "# set x axis label\n",
    "plt.xlabel(\"Latitude\", fontsize = font)\n",
    "# set y axis label\n",
    "plt.ylabel(\"Max Temperature (F)\", fontsize = font)\n",
    "# set chart title \n",
    "plt.title(f\"City Latitude vs. Max Temparature ({date})\\n\", fontsize = font)\n",
    "#  save png images to output folder\n",
    "plt.savefig(\"output_data/max_temp.png\")\n",
    "plt.show()"
   ]
  },
  {
   "cell_type": "markdown",
   "metadata": {},
   "source": [
    "#### Latitude vs. Temperature Plot"
   ]
  },
  {
   "cell_type": "markdown",
   "metadata": {},
   "source": [
    "\n",
    "\n",
    " \n"
   ]
  },
  {
   "cell_type": "markdown",
   "metadata": {},
   "source": [
    "#### Latitude vs. Humidity Plot"
   ]
  },
  {
   "cell_type": "code",
   "execution_count": null,
   "metadata": {},
   "outputs": [],
   "source": [
    "font = 12\n",
    "lat = city_weather_df['Lat']\n",
    "humidity = city_weather_df['Humidity(%)']\n",
    "date = city_weather_df['Date'][1]\n",
    "\n",
    "# Print analysis\n",
    "print (\"Maximum Humidity {:.2f} %\".format(humidity.max()))\n",
    "print (\"Minimum Humidity {:.2f} %\".format(humidity.min()))\n",
    "print (\"Average Humidity {:.2f} %\".format(humidity.mean()))\n",
    "\n",
    "plt.grid(True)\n",
    "# create scatter plot for humidity by city latitude\n",
    "plt.scatter(lat, humidity, marker=\"o\", facecolors=\"lightblue\", edgecolors=\"black\")\n",
    "# set x axis label\n",
    "plt.xlabel(\"Latitude\", fontsize = font)\n",
    "# set y axis label\n",
    "plt.ylabel(\"Humidity (%)\", fontsize = font)\n",
    "# set chart title \n",
    "plt.title(f\"City Latitude vs. Humidity (%) ({date})\\n\", fontsize = font)\n",
    "#  save png images to output folder\n",
    "plt.savefig(\"output_data/lat_humidity.png\")\n",
    "plt.show()"
   ]
  },
  {
   "cell_type": "markdown",
   "metadata": {},
   "source": [
    " "
   ]
  },
  {
   "cell_type": "markdown",
   "metadata": {},
   "source": [
    " "
   ]
  },
  {
   "cell_type": "markdown",
   "metadata": {},
   "source": [
    "#### Latitude vs. Cloudiness Plot"
   ]
  },
  {
   "cell_type": "code",
   "execution_count": null,
   "metadata": {},
   "outputs": [],
   "source": [
    "font = 12\n",
    "lat = city_weather_df['Lat']\n",
    "cloudiness = city_weather_df['Cloudiness(%)']\n",
    "date = city_weather_df['Date'][1]\n",
    "\n",
    "plt.grid(True)\n",
    "# create scatter plot for cloudiness by city latitude\n",
    "plt.scatter(lat, cloudiness, marker=\"o\", facecolors=\"yellow\", edgecolors=\"black\")\n",
    "# set x axis label\n",
    "plt.xlabel(\"Latitude\", fontsize = font)\n",
    "# set y axis label\n",
    "plt.ylabel(\"Cloudiness (%)\", fontsize = font)\n",
    "# set chart title \n",
    "plt.title(f\"City Latitude vs. Cloudiness (%) ({date})\\n\", fontsize = font)\n",
    "#  save png images to output folder\n",
    "plt.savefig(\"output_data/lat_cloudiness.png\")\n",
    "plt.show()"
   ]
  },
  {
   "cell_type": "markdown",
   "metadata": {},
   "source": [
    "\n",
    "\n"
   ]
  },
  {
   "cell_type": "markdown",
   "metadata": {},
   "source": [
    "#### Latitude vs. Wind Speed Plot"
   ]
  },
  {
   "cell_type": "code",
   "execution_count": null,
   "metadata": {},
   "outputs": [],
   "source": [
    "font = 12\n",
    "lat = city_weather_df['Lat']\n",
    "wind_speed = city_weather_df['Wind Speed(mph)']\n",
    "date = city_weather_df['Date'][1]\n",
    "\n",
    "plt.grid(True)\n",
    "# create scatter plot for wind speed mph by city latitude\n",
    "plt.scatter(lat, wind_speed, marker=\"o\", facecolors=\"red\", edgecolors=\"black\")\n",
    "# set x axis label\n",
    "plt.xlabel(\"Latitude\", fontsize = font)\n",
    "# set y axis label\n",
    "plt.ylabel(\"Wind Speed (mph)\", fontsize = font)\n",
    "# set chart title \n",
    "plt.title(f\"City Latitude vs. Wind Speed ({date})\\n\", fontsize = font)\n",
    "#  save png images to output folder\n",
    "plt.savefig(\"output_data/lat_wind_speed.png\")\n",
    "plt.show()"
   ]
  },
  {
   "cell_type": "markdown",
   "metadata": {},
   "source": [
    " "
   ]
  },
  {
   "cell_type": "markdown",
   "metadata": {},
   "source": [
    "\n",
    "\n",
    "\n"
   ]
  },
  {
   "cell_type": "markdown",
   "metadata": {},
   "source": [
    "font = 12\n",
    "lat = city_weather_df['Lat']\n",
    "humidity = city_weather_df['Humidity(%)']\n",
    "date = city_weather_df['Date'][1]\n",
    "\n",
    "# Print analysis\n",
    "print (\"Maximum Humidity {:.2f} %\".format(humidity.max()))\n",
    "print (\"Minimum Humidity {:.2f} %\".format(humidity.min()))\n",
    "print (\"Average Humidity {:.2f} %\".format(humidity.mean()))\n",
    "\n",
    "plt.grid(True)\n",
    "# create scatter plot for humidity by city latitude\n",
    "plt.scatter(lat, humidity, marker=\"o\", facecolors=\"lightblue\", edgecolors=\"black\")\n",
    "# set x axis label\n",
    "plt.xlabel(\"Latitude\", fontsize = font)\n",
    "# set y axis label\n",
    "plt.ylabel(\"Humidity (%)\", fontsize = font)\n",
    "# set chart title \n",
    "plt.title(f\"City Latitude vs. Humidity (%) ({date})\\n\", fontsize = font)\n",
    "#  save png images to output folder\n",
    "plt.savefig(\"output_data/lat_humidity.png\")\n",
    "plt.show()"
   ]
  },
  {
   "cell_type": "markdown",
   "metadata": {},
   "source": [
    "font = 12\n",
    "lat = city_weather_df['Lat']\n",
    "wind_speed = city_weather_df['Wind Speed(mph)']\n",
    "date = city_weather_df['Date'][1]\n",
    "\n",
    "plt.grid(True)\n",
    "# create scatter plot for wind speed mph by city latitude\n",
    "plt.scatter(lat, wind_speed, marker=\"o\", facecolors=\"red\", edgecolors=\"black\")\n",
    "# set x axis label\n",
    "plt.xlabel(\"Latitude\", fontsize = font)\n",
    "# set y axis label\n",
    "plt.ylabel(\"Wind Speed (mph)\", fontsize = font)\n",
    "# set chart title \n",
    "plt.title(f\"City Latitude vs. Wind Speed ({date})\\n\", fontsize = font)\n",
    "#  save png images to output folder\n",
    "plt.savefig(\"output_data/lat_wind_speed.png\")\n",
    "plt.show()"
   ]
  },
  {
   "cell_type": "markdown",
   "metadata": {},
   "source": [
    "font = 12\n",
    "lat = city_weather_df['Lat']\n",
    "max_temp = city_weather_df['Max Temp(F)']\n",
    "date = city_weather_df['Date'][0]\n",
    "\n",
    "# Print analysis\n",
    "print (\"Minimum Temprature is {:.2f}\" .format(max_temp.min()))\n",
    "print (\"Average Temprature is {:.2f}\" .format(max_temp.mean()))\n",
    "print (\"Maximun Temprature is {:.2f}\" .format (max_temp.max()))  \n",
    "print (\"Their are {} cities temprature are greater than 100 degree (F) \\n\" .format (city_weather_df[city_weather_df['Max Temp(F)']> 100].count()['City']))\n",
    " \n",
    "\n",
    "\n",
    "plt.grid(True)\n",
    "# create scatter plot for city latitude with max temprature\n",
    "plt.scatter(lat, max_temp, marker=\"o\", facecolors=\"lightblue\", edgecolors=\"black\")\n",
    "# set x axis label\n",
    "plt.xlabel(\"Latitude\", fontsize = font)\n",
    "# set y axis label\n",
    "plt.ylabel(\"Max Temperature (F)\", fontsize = font)\n",
    "# set chart title \n",
    "plt.title(f\"City Latitude vs. Max Temparature ({date})\\n\", fontsize = font)\n",
    "#  save png images to output folder\n",
    "plt.savefig(\"output_data/max_temp.png\")\n",
    "plt.show()"
   ]
  },
  {
   "cell_type": "markdown",
   "metadata": {},
   "source": [
    "font = 12\n",
    "lat = city_weather_df['Lat']\n",
    "cloudiness = city_weather_df['Cloudiness(%)']\n",
    "date = city_weather_df['Date'][1]\n",
    "\n",
    "plt.grid(True)\n",
    "# create scatter plot for cloudiness by city latitude\n",
    "plt.scatter(lat, cloudiness, marker=\"o\", facecolors=\"yellow\", edgecolors=\"black\")\n",
    "# set x axis label\n",
    "plt.xlabel(\"Latitude\", fontsize = font)\n",
    "# set y axis label\n",
    "plt.ylabel(\"Cloudiness (%)\", fontsize = font)\n",
    "# set chart title \n",
    "plt.title(f\"City Latitude vs. Cloudiness (%) ({date})\\n\", fontsize = font)\n",
    "#  save png images to output folder\n",
    "plt.savefig(\"output_data/lat_cloudiness.png\")\n",
    "plt.show()"
   ]
  }
 ],
 "metadata": {
  "anaconda-cloud": {},
  "kernel_info": {
   "name": "python3"
  },
  "kernelspec": {
   "display_name": "Python 3",
   "language": "python",
   "name": "python3"
  },
  "language_info": {
   "codemirror_mode": {
    "name": "ipython",
    "version": 3
   },
   "file_extension": ".py",
   "mimetype": "text/x-python",
   "name": "python",
   "nbconvert_exporter": "python",
   "pygments_lexer": "ipython3",
   "version": "3.7.4"
  },
  "nteract": {
   "version": "0.12.3"
  }
 },
 "nbformat": 4,
 "nbformat_minor": 2
}
