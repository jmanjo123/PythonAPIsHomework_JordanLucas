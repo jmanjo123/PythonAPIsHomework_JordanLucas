{
 "cells": [
  {
   "cell_type": "markdown",
   "metadata": {},
   "source": [
    "# WeatherPy\n",
    "----\n",
    "\n",
    "#### Note\n",
    "* Instructions have been included for each segment. You do not have to follow them exactly, but they are included to help you think through the steps."
   ]
  },
  {
   "cell_type": "code",
   "execution_count": 1,
   "metadata": {
    "scrolled": true
   },
   "outputs": [],
   "source": [
    "# Dependencies and Setup\n",
    "import matplotlib.pyplot as plt\n",
    "import pandas as pd\n",
    "import numpy as np\n",
    "import requests\n",
    "import time\n",
    "from scipy.stats import linregress\n",
    "\n",
    "# Import API key\n",
    "from api_keys import weather_api_key\n",
    "\n",
    "# Incorporated citipy to determine city based on latitude and longitude\n",
    "from citipy import citipy\n",
    "#import openweathermapy"
   ]
  },
  {
   "cell_type": "code",
   "execution_count": 2,
   "metadata": {},
   "outputs": [],
   "source": [
    "# Output File (CSV)\n",
    "output_data_file = \"C:/Users/jmanj/OneDrive/Desktop/Resources/cities.csv\"\n",
    "\n",
    "# Range of latitudes and longitudes\n",
    "lat_range = (-90, 90)\n",
    "lng_range = (-180, 180)"
   ]
  },
  {
   "cell_type": "markdown",
   "metadata": {},
   "source": [
    "## Generate Cities List"
   ]
  },
  {
   "cell_type": "code",
   "execution_count": 3,
   "metadata": {},
   "outputs": [
    {
     "name": "stdout",
     "output_type": "stream",
     "text": [
      "There are 631 cities found from random geo-coordinates.\n"
     ]
    }
   ],
   "source": [
    "lat_lngs = []\n",
    "cities = []\n",
    "\n",
    "# Create a set of random lat and lng combinations\n",
    "lats = np.random.uniform(low=lat_range[0], high=lat_range[1], size=1500)\n",
    "lngs = np.random.uniform(low=lng_range[0], high=lng_range[1], size=1500)\n",
    "lat_lngs = zip(lats, lngs)\n",
    "\n",
    "# Identify nearest city by passing lat and lng combination\n",
    "for lat_lng in lat_lngs:\n",
    "    city = citipy.nearest_city(lat_lng[0], lat_lng[1]).city_name\n",
    "    \n",
    "    # append unique city to the list\n",
    "    if city not in cities:\n",
    "        cities.append(city)\n",
    "\n",
    "# Print the city count to confirm sufficient count\n",
    "print(\"There are {} cities found from random geo-coordinates.\".format(len(cities)))"
   ]
  },
  {
   "cell_type": "markdown",
   "metadata": {},
   "source": [
    "# Create a set of random lat and lng combinations"
   ]
  },
  {
   "cell_type": "code",
   "execution_count": 4,
   "metadata": {},
   "outputs": [
    {
     "data": {
      "text/plain": [
       "606"
      ]
     },
     "execution_count": 4,
     "metadata": {},
     "output_type": "execute_result"
    }
   ],
   "source": [
    "# List for holding lat_lngs and cities\n",
    "lat_lngs = []\n",
    "cities = []\n",
    "\n",
    "# Create a set of random lat and lng combinations\n",
    "lats = np.random.uniform(low=-90.000, high=90.000, size=1500)\n",
    "lngs = np.random.uniform(low=-180.000, high=180.000, size=1500)\n",
    "lat_lngs = zip(lats, lngs)\n",
    "# Identify nearest city for each lat, lng combination\n",
    "\n",
    "for lat_lng in lat_lngs:\n",
    "    city = citipy.nearest_city(lat_lng[0], lat_lng[1]).city_name\n",
    "    \n",
    "    # If the city is unique, then add it to a our cities list\n",
    "    if city not in cities:\n",
    "        cities.append(city)\n",
    "\n",
    "# Print the city count to confirm sufficient count\n",
    "len(cities)"
   ]
  },
  {
   "cell_type": "markdown",
   "metadata": {},
   "source": [
    "### Perform API Calls\n",
    "* Perform a weather check on each city using a series of successive API calls.\n",
    "* Include a print log of each city as it'sbeing processed (with the city number and city name).\n"
   ]
  },
  {
   "cell_type": "code",
   "execution_count": null,
   "metadata": {},
   "outputs": [
    {
     "name": "stdout",
     "output_type": "stream",
     "text": [
      "Beginning Data Retrieval\n",
      "-----------------------------------\n"
     ]
    }
   ],
   "source": [
    "unit = \"Imperial\"\n",
    "\n",
    "#api_key = \"enter api key to execute\"\n",
    "\n",
    "base_url = f\"http://api.openweathermap.org/data/2.5/weather?\"\n",
    "param = {\"appid\" : weather_api_key,\n",
    "         \"units\" : unit}\n",
    "\n",
    "# Create DataFrame with below parameters\n",
    "city_weather_df = pd.DataFrame(columns=[\"City\",\n",
    "                                        \"Cloudiness(%)\",\n",
    "                                        \"Country\",\n",
    "                                        \"Date\",\n",
    "                                        \"Humidity(%)\",\n",
    "                                        \"Lat\",\n",
    "                                        \"Lng\", \n",
    "                                        \"Max Temp(F)\",\n",
    "                                        \"Wind Speed(mph)\"])\n",
    "\n",
    "# get local current time\n",
    "def current_date():\n",
    "    localtime = time.asctime( time.localtime(time.time()) )\n",
    "    return localtime.split(' ')[1]+\"/\"+localtime.split(' ')[2]+\"/\"+localtime.split(' ')[4]\n",
    "\n",
    "\n",
    "print(\"Beginning Data Retrieval\")\n",
    "print(\"-----------------------------------\")\n",
    "\n",
    "\n",
    "# store each city weather information on DataFrame\n",
    "i = 0\n",
    "not_found = 0\n",
    "for city in cities:\n",
    "    param[\"q\"] = city\n",
    "    \n",
    "    # Perform a weather check on each of the cities using a series of successive API calls    \n",
    "    data = requests.get(base_url, params=param).json()\n",
    "    try:\n",
    "        city_weather_df.loc[i, \"City\"] = data[\"name\"]\n",
    "        city_weather_df.loc[i, \"Cloudiness(%)\"] = data[\"clouds\"][\"all\"]\n",
    "        city_weather_df.loc[i, \"Country\"] = data[\"sys\"][\"country\"]\n",
    "        city_weather_df.loc[i, \"Date\"] = current_date()\n",
    "        city_weather_df.loc[i, \"Humidity(%)\"] = data[\"main\"][\"humidity\"]\n",
    "        city_weather_df.loc[i, \"Lat\"] = data[\"coord\"][\"lat\"]\n",
    "        city_weather_df.loc[i, \"Lng\"] = data[\"coord\"][\"lon\"]\n",
    "        city_weather_df.loc[i, \"Max Temp(F)\"] = data[\"main\"][\"temp_max\"]\n",
    "        city_weather_df.loc[i, \"Wind Speed(mph)\"] = data[\"wind\"][\"speed\"]\n",
    "        \n",
    "        i += 1\n",
    "        # Include a print log of each city as it's being processed with the city number and city name.\n",
    "        print(\"Processing Record {:3d} of set {} | {} \".format(i, len(cities), data['name']))\n",
    "              \n",
    "    except KeyError:\n",
    "        print(\"(Total {} cities out of {} not found...) \".format(not_found + 1, len(cities)))\n",
    "        not_found += 1\n",
    "\n",
    "print(f\"\"\"\n",
    "-------------------------------------------\n",
    "Data Retrieval Completed\n",
    "-------------------------------------------\"\"\")"
   ]
  },
  {
   "cell_type": "markdown",
   "metadata": {},
   "source": [
    "### Convert Raw Data to DataFrame\n",
    "* Export the city data into a .csv.\n",
    "* Display the DataFrame"
   ]
  },
  {
   "cell_type": "markdown",
   "metadata": {},
   "source": [
    "# Save CSV of all data retrieved\n",
    "city_weather_df.to_csv(output_data_file)\n",
    "city_weather_df.count()"
   ]
  },
  {
   "cell_type": "code",
   "execution_count": null,
   "metadata": {},
   "outputs": [],
   "source": [
    "#Display dataframe\n",
    "city_weather_df.head()"
   ]
  },
  {
   "cell_type": "markdown",
   "metadata": {},
   "source": [
    "### Plotting the Data"
   ]
  },
  {
   "cell_type": "code",
   "execution_count": null,
   "metadata": {},
   "outputs": [],
   "source": [
    "font = 12\n",
    "lat = city_weather_df['Lat']\n",
    "max_temp = city_weather_df['Max Temp(F)']\n",
    "date = city_weather_df['Date'][0]\n",
    "\n",
    "# Print analysis\n",
    "print (\"Minimum Temprature is {:.2f}\" .format(max_temp.min()))\n",
    "print (\"Average Temprature is {:.2f}\" .format(max_temp.mean()))\n",
    "print (\"Maximun Temprature is {:.2f}\" .format (max_temp.max()))  \n",
    "print (\"Their are {} cities temprature are greater than 100 degree (F) \\n\" .format (city_weather_df[city_weather_df['Max Temp(F)']> 100].count()['City']))\n",
    " \n",
    "\n",
    "\n",
    "plt.grid(True)\n",
    "# create scatter plot for city latitude with max temprature\n",
    "plt.scatter(lat, max_temp, marker=\"o\", facecolors=\"lightblue\", edgecolors=\"black\")\n",
    "# set x axis label\n",
    "plt.xlabel(\"Latitude\", fontsize = font)\n",
    "# set y axis label\n",
    "plt.ylabel(\"Max Temperature (F)\", fontsize = font)\n",
    "# set chart title \n",
    "plt.title(f\"City Latitude vs. Max Temparature ({date})\\n\", fontsize = font)\n",
    "#  save png images to output folder\n",
    "plt.savefig(\"output_data/max_temp.png\")\n",
    "plt.show()"
   ]
  },
  {
   "cell_type": "markdown",
   "metadata": {},
   "source": [
    "#### Latitude vs. Temperature Plot"
   ]
  },
  {
   "cell_type": "markdown",
   "metadata": {},
   "source": [
    "\n",
    "\n",
    " \n"
   ]
  },
  {
   "cell_type": "markdown",
   "metadata": {},
   "source": [
    "#### Latitude vs. Humidity Plot"
   ]
  },
  {
   "cell_type": "code",
   "execution_count": null,
   "metadata": {},
   "outputs": [],
   "source": [
    "font = 12\n",
    "lat = city_weather_df['Lat']\n",
    "humidity = city_weather_df['Humidity(%)']\n",
    "date = city_weather_df['Date'][1]\n",
    "\n",
    "# Print analysis\n",
    "print (\"Maximum Humidity {:.2f} %\".format(humidity.max()))\n",
    "print (\"Minimum Humidity {:.2f} %\".format(humidity.min()))\n",
    "print (\"Average Humidity {:.2f} %\".format(humidity.mean()))\n",
    "\n",
    "plt.grid(True)\n",
    "# create scatter plot for humidity by city latitude\n",
    "plt.scatter(lat, humidity, marker=\"o\", facecolors=\"lightblue\", edgecolors=\"black\")\n",
    "# set x axis label\n",
    "plt.xlabel(\"Latitude\", fontsize = font)\n",
    "# set y axis label\n",
    "plt.ylabel(\"Humidity (%)\", fontsize = font)\n",
    "# set chart title \n",
    "plt.title(f\"City Latitude vs. Humidity (%) ({date})\\n\", fontsize = font)\n",
    "#  save png images to output folder\n",
    "plt.savefig(\"output_data/lat_humidity.png\")\n",
    "plt.show()"
   ]
  },
  {
   "cell_type": "markdown",
   "metadata": {},
   "source": [
    " "
   ]
  },
  {
   "cell_type": "markdown",
   "metadata": {},
   "source": [
    " "
   ]
  },
  {
   "cell_type": "markdown",
   "metadata": {},
   "source": [
    "#### Latitude vs. Cloudiness Plot"
   ]
  },
  {
   "cell_type": "code",
   "execution_count": null,
   "metadata": {},
   "outputs": [],
   "source": [
    "font = 12\n",
    "lat = city_weather_df['Lat']\n",
    "cloudiness = city_weather_df['Cloudiness(%)']\n",
    "date = city_weather_df['Date'][1]\n",
    "\n",
    "plt.grid(True)\n",
    "# create scatter plot for cloudiness by city latitude\n",
    "plt.scatter(lat, cloudiness, marker=\"o\", facecolors=\"yellow\", edgecolors=\"black\")\n",
    "# set x axis label\n",
    "plt.xlabel(\"Latitude\", fontsize = font)\n",
    "# set y axis label\n",
    "plt.ylabel(\"Cloudiness (%)\", fontsize = font)\n",
    "# set chart title \n",
    "plt.title(f\"City Latitude vs. Cloudiness (%) ({date})\\n\", fontsize = font)\n",
    "#  save png images to output folder\n",
    "plt.savefig(\"output_data/lat_cloudiness.png\")\n",
    "plt.show()"
   ]
  },
  {
   "cell_type": "markdown",
   "metadata": {},
   "source": [
    "\n",
    "\n"
   ]
  },
  {
   "cell_type": "markdown",
   "metadata": {},
   "source": [
    "#### Latitude vs. Wind Speed Plot"
   ]
  },
  {
   "cell_type": "code",
   "execution_count": null,
   "metadata": {},
   "outputs": [],
   "source": [
    "font = 12\n",
    "lat = city_weather_df['Lat']\n",
    "wind_speed = city_weather_df['Wind Speed(mph)']\n",
    "date = city_weather_df['Date'][1]\n",
    "\n",
    "plt.grid(True)\n",
    "# create scatter plot for wind speed mph by city latitude\n",
    "plt.scatter(lat, wind_speed, marker=\"o\", facecolors=\"red\", edgecolors=\"black\")\n",
    "# set x axis label\n",
    "plt.xlabel(\"Latitude\", fontsize = font)\n",
    "# set y axis label\n",
    "plt.ylabel(\"Wind Speed (mph)\", fontsize = font)\n",
    "# set chart title \n",
    "plt.title(f\"City Latitude vs. Wind Speed ({date})\\n\", fontsize = font)\n",
    "#  save png images to output folder\n",
    "plt.savefig(\"output_data/lat_wind_speed.png\")\n",
    "plt.show()"
   ]
  },
  {
   "cell_type": "markdown",
   "metadata": {},
   "source": [
    " "
   ]
  },
  {
   "cell_type": "markdown",
   "metadata": {},
   "source": [
    "\n",
    "\n",
    "\n"
   ]
  },
  {
   "cell_type": "markdown",
   "metadata": {},
   "source": [
    "unit = \"Imperial\"\n",
    "base_url = f\"http://api.openweathermap.org/data/2.5/weather?\"\n",
    "param = {\"appid\":api_key,\n",
    "        \"units\":unit}\n",
    "city_weatherdf = pd.DataFrame(columns=[\"City\",\n",
    "                                       \"Cloudiness(%)\",\n",
    "                                       \"Country\",\n",
    "                                       \"Date\",\n",
    "                                       \"Humidity(%)\",\n",
    "                                       \"Lat\",\n",
    "                                       \"Lng\",\n",
    "                                       \"Max Temp(F)\",\n",
    "                                       \"Wind Speed(mph)\"])\n",
    "def presentdate():\n",
    "    localtime = time.asctime( time.localtime(time.time()) )\n",
    "    return localtime.split(' ')[1]+\"/\"+localtime.split(' ')[2]+\"/\"+localtime.split(' ')[4]\n",
    "\n",
    "print(\"Data Retrieval Starting\")\n",
    "print(\"---------------------------------\")\n",
    "\n",
    "x = 0\n",
    "notfound = 0\n",
    "for city in cities:\n",
    "    param[\"q\"] = city\n",
    "    data = requests.get(base_url, params=param).json()\n",
    "    try:\n",
    "        city_weatherdf.loc[i,\"City\"] = data[\"name\"]\n",
    "        city_weatherdf.loc[i, \"Cloudiness(%)\"] = data[\"clouds\"][\"all\"]\n",
    "        city_weatherdf.loc[i, \"Country\"] = data[\"sys\"][\"country\"]\n",
    "        city_weatherdf.loc[i,\"Date\"] = currentdate()\n",
    "        city_weatherdf.loc[i,\"Humidity(%)\"] = data[\"main\"][\"humidity\"]\n",
    "        city_weatherdf.loc[i,\"Lat\"] = data[\"coord\"][\"lat\"]\n",
    "        city_weatherdf.loc[i,\"Lng\"] = data[\"coord\"][\"lon\"]\n",
    "        city_weatherdf.loc[i, \"Max Temp(F)\"] = data[\"main\"][\"temp_max\"]\n",
    "        city_weatherdf.loc[i, \"Wind Speed(mph)\"] = data[\"wind\"][\"speed\"]\n",
    "    \n",
    "        x = x + 1\n",
    "        \n",
    "        print(\"Processing Record {:3d} of set {} | {} \".format(i, len(cities), data['name']))\n",
    "              \n",
    "\n",
    "    except KeyError: \n",
    "        print(\"(Total {} citites out of {} not found...) \".format(notfound+1, len(cities)))\n",
    "        notfound = notfound + 1\n",
    "\n",
    "print(f\"\"\"\n",
    "-------------------------------------------\n",
    "Data Retrieval Completed\n",
    "-------------------------------------------\"\"\")\n"
   ]
  },
  {
   "cell_type": "markdown",
   "metadata": {},
   "source": [
    "font = 12\n",
    "lat = city_weather_df['Lat']\n",
    "humidity = city_weather_df['Humidity(%)']\n",
    "date = city_weather_df['Date'][1]\n",
    "\n",
    "# Print analysis\n",
    "print (\"Maximum Humidity {:.2f} %\".format(humidity.max()))\n",
    "print (\"Minimum Humidity {:.2f} %\".format(humidity.min()))\n",
    "print (\"Average Humidity {:.2f} %\".format(humidity.mean()))\n",
    "\n",
    "plt.grid(True)\n",
    "# create scatter plot for humidity by city latitude\n",
    "plt.scatter(lat, humidity, marker=\"o\", facecolors=\"lightblue\", edgecolors=\"black\")\n",
    "# set x axis label\n",
    "plt.xlabel(\"Latitude\", fontsize = font)\n",
    "# set y axis label\n",
    "plt.ylabel(\"Humidity (%)\", fontsize = font)\n",
    "# set chart title \n",
    "plt.title(f\"City Latitude vs. Humidity (%) ({date})\\n\", fontsize = font)\n",
    "#  save png images to output folder\n",
    "plt.savefig(\"output_data/lat_humidity.png\")\n",
    "plt.show()"
   ]
  },
  {
   "cell_type": "markdown",
   "metadata": {},
   "source": [
    "font = 12\n",
    "lat = city_weather_df['Lat']\n",
    "wind_speed = city_weather_df['Wind Speed(mph)']\n",
    "date = city_weather_df['Date'][1]\n",
    "\n",
    "plt.grid(True)\n",
    "# create scatter plot for wind speed mph by city latitude\n",
    "plt.scatter(lat, wind_speed, marker=\"o\", facecolors=\"red\", edgecolors=\"black\")\n",
    "# set x axis label\n",
    "plt.xlabel(\"Latitude\", fontsize = font)\n",
    "# set y axis label\n",
    "plt.ylabel(\"Wind Speed (mph)\", fontsize = font)\n",
    "# set chart title \n",
    "plt.title(f\"City Latitude vs. Wind Speed ({date})\\n\", fontsize = font)\n",
    "#  save png images to output folder\n",
    "plt.savefig(\"output_data/lat_wind_speed.png\")\n",
    "plt.show()"
   ]
  },
  {
   "cell_type": "markdown",
   "metadata": {},
   "source": [
    "font = 12\n",
    "lat = city_weather_df['Lat']\n",
    "max_temp = city_weather_df['Max Temp(F)']\n",
    "date = city_weather_df['Date'][0]\n",
    "\n",
    "# Print analysis\n",
    "print (\"Minimum Temprature is {:.2f}\" .format(max_temp.min()))\n",
    "print (\"Average Temprature is {:.2f}\" .format(max_temp.mean()))\n",
    "print (\"Maximun Temprature is {:.2f}\" .format (max_temp.max()))  \n",
    "print (\"Their are {} cities temprature are greater than 100 degree (F) \\n\" .format (city_weather_df[city_weather_df['Max Temp(F)']> 100].count()['City']))\n",
    " \n",
    "\n",
    "\n",
    "plt.grid(True)\n",
    "# create scatter plot for city latitude with max temprature\n",
    "plt.scatter(lat, max_temp, marker=\"o\", facecolors=\"lightblue\", edgecolors=\"black\")\n",
    "# set x axis label\n",
    "plt.xlabel(\"Latitude\", fontsize = font)\n",
    "# set y axis label\n",
    "plt.ylabel(\"Max Temperature (F)\", fontsize = font)\n",
    "# set chart title \n",
    "plt.title(f\"City Latitude vs. Max Temparature ({date})\\n\", fontsize = font)\n",
    "#  save png images to output folder\n",
    "plt.savefig(\"output_data/max_temp.png\")\n",
    "plt.show()"
   ]
  },
  {
   "cell_type": "markdown",
   "metadata": {},
   "source": [
    "font = 12\n",
    "lat = city_weather_df['Lat']\n",
    "cloudiness = city_weather_df['Cloudiness(%)']\n",
    "date = city_weather_df['Date'][1]\n",
    "\n",
    "plt.grid(True)\n",
    "# create scatter plot for cloudiness by city latitude\n",
    "plt.scatter(lat, cloudiness, marker=\"o\", facecolors=\"yellow\", edgecolors=\"black\")\n",
    "# set x axis label\n",
    "plt.xlabel(\"Latitude\", fontsize = font)\n",
    "# set y axis label\n",
    "plt.ylabel(\"Cloudiness (%)\", fontsize = font)\n",
    "# set chart title \n",
    "plt.title(f\"City Latitude vs. Cloudiness (%) ({date})\\n\", fontsize = font)\n",
    "#  save png images to output folder\n",
    "plt.savefig(\"output_data/lat_cloudiness.png\")\n",
    "plt.show()"
   ]
  }
 ],
 "metadata": {
  "anaconda-cloud": {},
  "kernel_info": {
   "name": "python3"
  },
  "kernelspec": {
   "display_name": "Python 3",
   "language": "python",
   "name": "python3"
  },
  "language_info": {
   "codemirror_mode": {
    "name": "ipython",
    "version": 3
   },
   "file_extension": ".py",
   "mimetype": "text/x-python",
   "name": "python",
   "nbconvert_exporter": "python",
   "pygments_lexer": "ipython3",
   "version": "3.7.4"
  },
  "nteract": {
   "version": "0.12.3"
  }
 },
 "nbformat": 4,
 "nbformat_minor": 2
}
